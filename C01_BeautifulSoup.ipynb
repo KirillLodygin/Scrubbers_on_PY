{
 "cells": [
  {
   "cell_type": "raw",
   "metadata": {
    "collapsed": true,
    "pycharm": {
     "name": "#%% raw\n"
    }
   },
   "source": [
    "\n",
    "from urllib.request import urlopen\n",
    "html = urlopen(\"http://pythonscraping.com/pages/page1.html\")\n",
    "print(html.read())"
   ]
  },
  {
   "cell_type": "code",
   "execution_count": 1,
   "outputs": [
    {
     "name": "stdout",
     "output_type": "stream",
     "text": [
      "<html>\n",
      "<head>\n",
      "<title>A Useful Page</title>\n",
      "</head>\n",
      "<body>\n",
      "<h1>An Interesting Title</h1>\n",
      "<div>\n",
      "Lorem ipsum dolor sit amet, consectetur adipisicing elit, sed do eiusmod tempor incididunt ut labore et dolore magna aliqua. Ut enim ad minim veniam, quis nostrud exercitation ullamco laboris nisi ut aliquip ex ea commodo consequat. Duis aute irure dolor in reprehenderit in voluptate velit esse cillum dolore eu fugiat nulla pariatur. Excepteur sint occaecat cupidatat non proident, sunt in culpa qui officia deserunt mollit anim id est laborum.\n",
      "</div>\n",
      "</body>\n",
      "</html>\n",
      "\n"
     ]
    }
   ],
   "source": [
    "from urllib.request import urlopen\n",
    "from bs4 import BeautifulSoup\n",
    "\n",
    "html = urlopen(\"http://www.pythonscraping.com/pages/page1.html\")\n",
    "bsObj = BeautifulSoup(html.read(), 'html.parser')\n",
    "print(bsObj)"
   ],
   "metadata": {
    "collapsed": false,
    "pycharm": {
     "name": "#%%\n"
    }
   }
  },
  {
   "cell_type": "code",
   "execution_count": 2,
   "outputs": [
    {
     "name": "stdout",
     "output_type": "stream",
     "text": [
      "<h1>An Interesting Title</h1>\n"
     ]
    }
   ],
   "source": [
    "# -*- coding: utf8 -*-\n",
    "\n",
    "import requests, bs4\n",
    "\n",
    "res = requests.get('http://www.pythonscraping.com/pages/page1.html')\n",
    "try:\n",
    "\tres.raise_for_status()\n",
    "except Exception as exc:\n",
    "\tprint('Возникла проблема: %s' % exc)\n",
    "\n",
    "if res is None:\n",
    "\tprint(\"URL is not found\")\n",
    "else:\n",
    "\tbsObj = bs4.BeautifulSoup(res.text, \"lxml\")\n",
    "\tprint(bsObj.h1)"
   ],
   "metadata": {
    "collapsed": false,
    "pycharm": {
     "name": "#%%\n"
    }
   }
  },
  {
   "cell_type": "code",
   "execution_count": 3,
   "outputs": [
    {
     "name": "stdout",
     "output_type": "stream",
     "text": [
      "<h1>An Interesting Title</h1>\n"
     ]
    }
   ],
   "source": [
    "import requests, bs4\n",
    "\n",
    "\n",
    "def getSiteHTML(url):\n",
    "\tres = requests.get(url)\n",
    "\n",
    "\ttry:\n",
    "\t\tres.raise_for_status()\n",
    "\t\treturn res\n",
    "\texcept Exception as exc:\n",
    "\t\tprint('There was a problem: %s' % exc)\n",
    "\t\treturn None\n",
    "\n",
    "\n",
    "def getTitle(url):\n",
    "\tres = getSiteHTML(url)\n",
    "\tif res is None:\n",
    "\t\treturn None\n",
    "\n",
    "\ttry:\n",
    "\t\tbsObj = bs4.BeautifulSoup(res.text, \"html5lib\")\n",
    "\t\ttitle = bsObj.body.h1\n",
    "\texcept Exception as exc:\n",
    "\t\treturn None\n",
    "\n",
    "\treturn title\n",
    "\n",
    "\n",
    "title = getTitle('http://www.pythonscraping.com/pages/page1.html')\n",
    "\n",
    "if title is None:\n",
    "\tprint('Title could not be found')\n",
    "else:\n",
    "\tprint(title)"
   ],
   "metadata": {
    "collapsed": false,
    "pycharm": {
     "name": "#%%\n"
    }
   }
  }
 ],
 "metadata": {
  "kernelspec": {
   "display_name": "Python 3",
   "language": "python",
   "name": "python3"
  },
  "language_info": {
   "codemirror_mode": {
    "name": "ipython",
    "version": 2
   },
   "file_extension": ".py",
   "mimetype": "text/x-python",
   "name": "python",
   "nbconvert_exporter": "python",
   "pygments_lexer": "ipython2",
   "version": "2.7.6"
  }
 },
 "nbformat": 4,
 "nbformat_minor": 0
}